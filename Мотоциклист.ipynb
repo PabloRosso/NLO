{
 "cells": [
  {
   "cell_type": "code",
   "execution_count": 14,
   "id": "76bfc83c",
   "metadata": {},
   "outputs": [
    {
     "name": "stdout",
     "output_type": "stream",
     "text": [
      "['Шлем', 'Наколенники', 'Налокотники', 'Куртка', 'Мотоботинки', 'Перчатки']\n"
     ]
    }
   ],
   "source": [
    "motorcycle_ammunition_list = ['Шлем', 'Наколенники', 'Налокотники', 'Куртка', 'Мотоботинки', 'Перчатки']\n",
    "print(motorcycle_ammunition_list)\n",
    "rider_ammunition_weight = ['800', '300', '300', '400', '700', '230']\n",
    "cost_of_weight = {}\n",
    "for el in range(6):\n",
    "    cost_of_weight[motorcycle_ammunition_list[el]] = rider_ammunition_weight[el]\n",
    "price = ['200', '110', '110', '300', '350', '120']    \n",
    "cost_of_equipment = {}\n",
    "for el_1 in range(6):\n",
    "    cost_of_equipment[motorcycle_ammunition_list[el_1]] = price[el_1]"
   ]
  },
  {
   "cell_type": "code",
   "execution_count": 15,
   "id": "18b0f817",
   "metadata": {},
   "outputs": [
    {
     "name": "stdout",
     "output_type": "stream",
     "text": [
      "{'Шлем': '800', 'Наколенники': '300', 'Налокотники': '300', 'Куртка': '400', 'Мотоботинки': '700', 'Перчатки': '230'}\n",
      "{'Шлем': '200', 'Наколенники': '110', 'Налокотники': '110', 'Куртка': '300', 'Мотоботинки': '350', 'Перчатки': '120'}\n"
     ]
    }
   ],
   "source": [
    "print(cost_of_weight)\n",
    "print(cost_of_equipment)"
   ]
  },
  {
   "cell_type": "code",
   "execution_count": 19,
   "id": "8bdf054c",
   "metadata": {},
   "outputs": [
    {
     "name": "stdout",
     "output_type": "stream",
     "text": [
      "['230', '300', '300', '400', '700', '800']\n"
     ]
    }
   ],
   "source": [
    "rider_ammunition_weight.sort()\n",
    "print(rider_ammunition_weight)"
   ]
  },
  {
   "cell_type": "code",
   "execution_count": 22,
   "id": "2c23a7fc",
   "metadata": {},
   "outputs": [
    {
     "name": "stdout",
     "output_type": "stream",
     "text": [
      "['110', '110', '120', '200', '300', '350']\n"
     ]
    }
   ],
   "source": [
    "price.sort()\n",
    "print(price)"
   ]
  },
  {
   "cell_type": "code",
   "execution_count": 35,
   "id": "d9695f12",
   "metadata": {},
   "outputs": [
    {
     "name": "stdout",
     "output_type": "stream",
     "text": [
      "dict_items([('Шлем', '200'), ('Наколенники', '110'), ('Налокотники', '110'), ('Куртка', '300'), ('Мотоботинки', '350'), ('Перчатки', '120')])\n",
      "Наколенники : 110\n",
      "Налокотники : 110\n",
      "Перчатки : 120\n",
      "Шлем : 200\n",
      "Куртка : 300\n",
      "Мотоботинки : 350\n"
     ]
    }
   ],
   "source": [
    "print(cost_of_equipment.items())\n",
    "price_1 = list(cost_of_equipment.items())\n",
    "price_1.sort(key=lambda i: i[1])\n",
    "for i in price_1:\n",
    "    print(i[0],\":\", i[1])"
   ]
  },
  {
   "cell_type": "code",
   "execution_count": 121,
   "id": "3fd1072c",
   "metadata": {},
   "outputs": [
    {
     "name": "stdout",
     "output_type": "stream",
     "text": [
      "Добрый день, вы находитесь на сайте интернет магазина экипировки для мотоциклистов\n",
      "Выберите элемент аммуниции, которые вам подходят:\n",
      "-Шлем, \n",
      "-Налокотники, \n",
      "-Наколенники, \n",
      "-Куртка, \n",
      "-Перчатки, \n",
      "-Мотоботинки\n",
      "Шлем\n",
      "Хотели бы вы выбрать еще один элемент экипировки? Y or N N\n",
      "Спасибо за ваш выбор!\n",
      "Хотите узнать перечень стоимости аммуниции для мотоциклиста в виде списка или узнать на кассе? список or касса\n",
      "касса\n",
      "Наши менеждеры расскажут вам всю информацию более подробно на весь интересующий ассортимент товара.\n",
      "Хотели бы вы получить скидочный купон на следующую покупку? Y or N\n",
      "N\n",
      "До новых встреч,всегда рады видеть Вас снова! Легких дорог!\n"
     ]
    }
   ],
   "source": [
    "print('Добрый день, вы находитесь на сайте интернет магазина экипировки для мотоциклистов')\n",
    "print('Выберите элемент аммуниции, которые вам подходят:\\n-Шлем, \\n-Налокотники, \\n-Наколенники, \\n-Куртка, \\n-Перчатки, \\n-Мотоботинки')\n",
    "motorcycle_ammunition = input()\n",
    "flag = True\n",
    "while flag:\n",
    "    answer = input(\"Хотели бы вы выбрать еще один элемент экипировки? Y or N \")\n",
    "    if answer == 'Y': \n",
    "        print (input('Выберете еще один элемент:\\n-Шлем, \\n-Налокотники, \\n-Наколенники, \\n-Куртка, \\n-Перчатки, \\n-Мотоботинки '))\n",
    "    else:\n",
    "        flag = False\n",
    "        print('Спасибо за ваш выбор!')\n",
    "        print(\"Хотите узнать перечень стоимости аммуниции для мотоциклиста в виде списка или узнать на кассе? список or касса\")\n",
    "our_answer = input()\n",
    "if our_answer == 'список':\n",
    "    print(*price_1, sep=\"\\n\", end=\"\\n\\n\")\n",
    "    print('Цена указана в у.е')\n",
    "    print('Введите товар и цену для повторного ввода')\n",
    "    print('После ввода Ваш товар будет зафиксирован, подойдите к кассe. Спасибо!')\n",
    "elif our_answer == 'касса':\n",
    "    print('Наши менеждеры расскажут вам всю информацию более подробно на весь интересующий ассортимент товара.')\n",
    "    print('Хотели бы вы получить скидочный купон на следующую покупку? Y or N')\n",
    "sale_card = input()\n",
    "if sale_card == 'Y':\n",
    "    print('Скидочный купон будет выдан вам после оплаты товара. Ваша скидка составит 15% на следующую покупку. Спасибо, что вы с нами!')\n",
    "elif sale_card == 'N':\n",
    "    print('До новых встреч,всегда рады видеть Вас снова! Легких дорог!')"
   ]
  },
  {
   "cell_type": "code",
   "execution_count": null,
   "id": "59905711",
   "metadata": {},
   "outputs": [],
   "source": []
  },
  {
   "cell_type": "code",
   "execution_count": null,
   "id": "f4db948b",
   "metadata": {},
   "outputs": [],
   "source": []
  },
  {
   "cell_type": "code",
   "execution_count": null,
   "id": "72e52082",
   "metadata": {},
   "outputs": [],
   "source": []
  }
 ],
 "metadata": {
  "kernelspec": {
   "display_name": "Python 3",
   "language": "python",
   "name": "python3"
  },
  "language_info": {
   "codemirror_mode": {
    "name": "ipython",
    "version": 3
   },
   "file_extension": ".py",
   "mimetype": "text/x-python",
   "name": "python",
   "nbconvert_exporter": "python",
   "pygments_lexer": "ipython3",
   "version": "3.8.8"
  }
 },
 "nbformat": 4,
 "nbformat_minor": 5
}
