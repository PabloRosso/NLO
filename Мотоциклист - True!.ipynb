{
 "cells": [
  {
   "cell_type": "code",
   "execution_count": null,
   "id": "311878dd",
   "metadata": {},
   "outputs": [],
   "source": [
    "motorcycle_ammunition_list = ['Шлем', 'Наколенники', 'Налокотники', 'Куртка', 'Мотоботинки', 'Перчатки']\n",
    "print(motorcycle_ammunition_list)\n",
    "rider_ammunition_weight = ['800', '300', '300', '400', '700', '230']\n",
    "cost_of_weight = {}\n",
    "for el in range(6):\n",
    "    cost_of_weight[motorcycle_ammunition_list[el]] = rider_ammunition_weight[el]\n",
    "price = ['200', '110', '110', '300', '350', '120']    \n",
    "cost_of_equipment = {}\n",
    "for el_1 in range(6):\n",
    "    cost_of_equipment[motorcycle_ammunition_list[el_1]] = price[el_1]\n",
    "print(cost_of_weight)\n",
    "print(cost_of_equipment)\n",
    "rider_ammunition_weight.sort()\n",
    "print(rider_ammunition_weight)\n",
    "price.sort()\n",
    "print(price)\n",
    "print(cost_of_equipment.items())\n",
    "price_1 = list(cost_of_equipment.items())\n",
    "price_1.sort(key=lambda i: i[1])\n",
    "for i in price_1:\n",
    "    print(i[0],\":\", i[1])\n",
    "print('Добрый день, вы находитесь на сайте интернет магазина экипировки для мотоциклистов')\n",
    "print('Выберите элемент аммуниции, которые вам подходят:\\n-Шлем, \\n-Налокотники, \\n-Наколенники, \\n-Куртка, \\n-Перчатки, \\n-Мотоботинки')\n",
    "motorcycle_ammunition = input()\n",
    "flag = True\n",
    "while flag:\n",
    "    answer = input(\"Хотели бы вы выбрать еще один элемент экипировки? Y or N \")\n",
    "    if answer == 'Y': \n",
    "        print (input('Выберете еще один элемент:\\n-Шлем, \\n-Налокотники, \\n-Наколенники, \\n-Куртка, \\n-Перчатки, \\n-Мотоботинки '))\n",
    "    else:\n",
    "        flag = False\n",
    "        print('Спасибо за ваш выбор!')\n",
    "        print(\"Хотите узнать перечень стоимости аммуниции для мотоциклиста в виде списка или узнать на кассе? список or касса\")\n",
    "our_answer = input()\n",
    "if our_answer == 'список':\n",
    "    print(*price_1, sep=\"\\n\", end=\"\\n\\n\")\n",
    "    print('Цена указана в у.е')\n",
    "    print('Введите товар и цену для повторного ввода')\n",
    "    print('После ввода Ваш товар будет зафиксирован, подойдите к кассe. Спасибо!')\n",
    "elif our_answer == 'касса':\n",
    "    print('Наши менеждеры расскажут вам всю информацию более подробно на весь интересующий ассортимент товара.')\n",
    "    print('Хотели бы вы получить скидочный купон на следующую покупку? Y or N')\n",
    "sale_card = input()\n",
    "if sale_card == 'Y':\n",
    "    print('Скидочный купон будет выдан вам после оплаты товара. Ваша скидка составит 15% на следующую покупку. Спасибо, что вы с нами!')\n",
    "elif sale_card == 'N':\n",
    "    print('До новых встреч,всегда рады видеть Вас снова! Легких дорог!')"
   ]
  }
 ],
 "metadata": {
  "kernelspec": {
   "display_name": "Python 3",
   "language": "python",
   "name": "python3"
  },
  "language_info": {
   "codemirror_mode": {
    "name": "ipython",
    "version": 3
   },
   "file_extension": ".py",
   "mimetype": "text/x-python",
   "name": "python",
   "nbconvert_exporter": "python",
   "pygments_lexer": "ipython3",
   "version": "3.8.8"
  }
 },
 "nbformat": 4,
 "nbformat_minor": 5
}
