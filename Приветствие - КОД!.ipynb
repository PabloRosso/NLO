{
 "cells": [
  {
   "cell_type": "code",
   "execution_count": null,
   "id": "006b5b4c",
   "metadata": {},
   "outputs": [],
   "source": [
    "Английский, Японский, Китайский, Французский, Польский\n",
    "Выводит приветственное сообщение:\n",
    "    в зависимости от ответа, оно определяет язык \n",
    "    и приветствует пользователя на его родном языке,\n",
    "    после чего предлагает ему ввести приветственное сообщение\n",
    "    еще раз, либо закончить общение.\n",
    "    Если пользоватеь выбирает опцию завершения общения\n",
    "    программа закрывается\n",
    "    И выводится прощальное сообщение на определенном в \n",
    "    программе языке"
   ]
  },
  {
   "cell_type": "code",
   "execution_count": null,
   "id": "46d1c064",
   "metadata": {},
   "outputs": [
    {
     "name": "stdout",
     "output_type": "stream",
     "text": [
      "Привет Hello Cześć こんにちは Bonjour\n",
      "Enter a greeting in your native language\n"
     ]
    }
   ],
   "source": [
    "print(\"Привет\", \"Hello\", \"Cześć\", \"こんにちは\", \"Bonjour\")\n",
    "print('Enter a greeting in your native language')\n",
    "text_language = [\"Привет\", \"Hello\", \"Cześć\", \"こんにちは\", \"Bonjour\"]\n",
    "text_language = input()\n",
    "if text_language == 'Hello':\n",
    "    print('Hello, nice to meet you!')\n",
    "    print('Do you want to say hello again?')\n",
    "    choise = input()\n",
    "    if choise == 'y':\n",
    "        print('Enter your greeting again')\n",
    "        input()\n",
    "    elif choise == 'n':\n",
    "        print('Goodbye, see you soon!')\n",
    "elif text_language == 'Привет':\n",
    "    print('Привет, рад видеть вас!')\n",
    "    print('Хотели бы вы поприветствовать снова?')\n",
    "    choise = input()\n",
    "    if choise == 'да':\n",
    "        print('Впишите ваше приветствие еще раз')\n",
    "        input()\n",
    "    elif choise == 'нет':\n",
    "        print('Досвидания, увидимся в скоре!')\n",
    "if text_language == 'Сześć':\n",
    "    print('Witam, cieszę się, że cię widzę!')\n",
    "    print('Czy chciałbyś się ponownie przywitać?')\n",
    "    choise = input()\n",
    "    if choise == 'tak':\n",
    "        print('Napisz swoje pozdrowienia')\n",
    "        input()\n",
    "    elif choise == 'nie':\n",
    "        print('Do widzenia, do zobaczenia wkrótce!')\n",
    "elif text_language == 'Bonjour':\n",
    "    print('Bonjour, content de vous voir!')\n",
    "    print('Souhaitez-vous saluer à nouveau?')\n",
    "    choise = input()\n",
    "    if choise == 'Oui':\n",
    "        print('Saisissez à nouveau votre message daccueil')\n",
    "        input()\n",
    "    elif choise == 'ne pas':\n",
    "        print('Au revoir à bientôt!')\n",
    "if text_language == 'こんにちは':\n",
    "    print('こんにちは、お会いできてうれしいです！')\n",
    "    print('また挨拶しますか？')\n",
    "    choise = input()\n",
    "    if choise == 'はい':\n",
    "        print('もう一度挨拶を入力してください')\n",
    "        input()\n",
    "    elif choise == 'ない':\n",
    "        print('さようなら、またね！')"
   ]
  },
  {
   "cell_type": "code",
   "execution_count": null,
   "id": "0a162044",
   "metadata": {},
   "outputs": [],
   "source": []
  }
 ],
 "metadata": {
  "kernelspec": {
   "display_name": "Python 3",
   "language": "python",
   "name": "python3"
  },
  "language_info": {
   "codemirror_mode": {
    "name": "ipython",
    "version": 3
   },
   "file_extension": ".py",
   "mimetype": "text/x-python",
   "name": "python",
   "nbconvert_exporter": "python",
   "pygments_lexer": "ipython3",
   "version": "3.8.8"
  }
 },
 "nbformat": 4,
 "nbformat_minor": 5
}
